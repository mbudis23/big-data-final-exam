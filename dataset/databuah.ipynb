{
 "cells": [
  {
   "cell_type": "code",
   "execution_count": 5,
   "metadata": {},
   "outputs": [
    {
     "name": "stderr",
     "output_type": "stream",
     "text": [
      "[*********************100%***********************]  1 of 1 completed"
     ]
    },
    {
     "name": "stdout",
     "output_type": "stream",
     "text": [
      "Data FOOD.JK telah disimpan sebagai FOOD.JK_historical_data.csv.\n"
     ]
    },
    {
     "name": "stderr",
     "output_type": "stream",
     "text": [
      "\n"
     ]
    }
   ],
   "source": [
    "import yfinance as yf\n",
    "\n",
    "# Masukkan ticker saham, misalnya 'AAPL' untuk Apple\n",
    "ticker = \"FOOD.JK\"\n",
    "\n",
    "# Download data historis\n",
    "data = yf.download(ticker, start=\"2000-01-01\", end=\"2024-12-12\")\n",
    "\n",
    "# Simpan data ke file CSV\n",
    "data.to_csv(f\"{ticker}_historical_data.csv\")\n",
    "\n",
    "print(f\"Data {ticker} telah disimpan sebagai {ticker}_historical_data.csv.\")\n"
   ]
  }
 ],
 "metadata": {
  "kernelspec": {
   "display_name": "venv",
   "language": "python",
   "name": "python3"
  },
  "language_info": {
   "codemirror_mode": {
    "name": "ipython",
    "version": 3
   },
   "file_extension": ".py",
   "mimetype": "text/x-python",
   "name": "python",
   "nbconvert_exporter": "python",
   "pygments_lexer": "ipython3",
   "version": "3.12.3"
  }
 },
 "nbformat": 4,
 "nbformat_minor": 2
}
