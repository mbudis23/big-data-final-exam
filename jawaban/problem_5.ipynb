{
 "cells": [
  {
   "cell_type": "markdown",
   "metadata": {},
   "source": [
    "# Persoalan 5\n",
    "Carilah data transaksi pembelian di online shopping lalu lakukan association rule mining dengan menentukan terlebih dahulu minsupp dan minconf. "
   ]
  },
  {
   "cell_type": "code",
   "execution_count": 146,
   "metadata": {},
   "outputs": [
    {
     "name": "stdout",
     "output_type": "stream",
     "text": [
      "{'encoding': 'ascii', 'confidence': 1.0, 'language': ''}\n"
     ]
    }
   ],
   "source": [
    "import pandas as pd\n",
    "from mlxtend.frequent_patterns import apriori, association_rules\n",
    "from mlxtend.preprocessing import TransactionEncoder\n",
    "import chardet\n",
    "import re\n",
    "\n",
    "with open('../dataset/Online Retail Data Set.csv', 'rb') as file:\n",
    "    result = chardet.detect(file.read(10000))  # Periksa 10 KB pertama\n",
    "    print(result)\n"
   ]
  },
  {
   "cell_type": "code",
   "execution_count": 147,
   "metadata": {},
   "outputs": [],
   "source": [
    "df = pd.read_csv('../dataset/Online Retail Data Set.csv', sep=',', encoding='ISO-8859-1')"
   ]
  },
  {
   "cell_type": "code",
   "execution_count": 148,
   "metadata": {},
   "outputs": [],
   "source": [
    "# 1. Konversi ke huruf kecil\n",
    "df['Description'] = df['Description'].str.upper()\n",
    "\n",
    "# 2. Hapus spasi ekstra di awal dan akhir\n",
    "df['Description'] = df['Description'].str.strip()\n",
    "df['Description'] = df['Description'].replace(synonym_mapping, regex=True)"
   ]
  },
  {
   "cell_type": "code",
   "execution_count": 149,
   "metadata": {},
   "outputs": [],
   "source": [
    "lookup_table = df.dropna(subset=['Description']).drop_duplicates('StockCode').set_index('StockCode')['Description']\n",
    "df['Description'] = df.apply(\n",
    "    lambda row: lookup_table[row['StockCode']] if pd.isna(row['Description']) and row['StockCode'] in lookup_table\n",
    "    else (row['StockCode'] if pd.isna(row['Description']) and row['StockCode'] else row['Description']),\n",
    "    axis=1\n",
    ")"
   ]
  },
  {
   "cell_type": "code",
   "execution_count": 150,
   "metadata": {},
   "outputs": [
    {
     "data": {
      "text/plain": [
       "Description\n",
       "WHITE HANGING HEART T-LIGHT HOLDER    2369\n",
       "REGENCY CAKESTAND 3 TIER              2200\n",
       "JUMBO BAG RED RETROSPOT               2159\n",
       "PARTY BUNTING                         1727\n",
       "LUNCH BAG RED RETROSPOT               1638\n",
       "                                      ... \n",
       "84971L                                   1\n",
       "????MISSING                              1\n",
       "CROCHET LILAC/RED BEAR KEYRING           1\n",
       "LARGE HEART FLOWERS HOOK                 1\n",
       "SET 10 CARDS 3 WISE MEN 17107            1\n",
       "Name: count, Length: 4306, dtype: int64"
      ]
     },
     "execution_count": 150,
     "metadata": {},
     "output_type": "execute_result"
    }
   ],
   "source": [
    "df.Description.value_counts()"
   ]
  },
  {
   "cell_type": "code",
   "execution_count": 151,
   "metadata": {},
   "outputs": [],
   "source": [
    "basket = df.groupby('InvoiceNo')['Description'].apply(list).reset_index()"
   ]
  },
  {
   "cell_type": "code",
   "execution_count": 152,
   "metadata": {},
   "outputs": [],
   "source": [
    "te = TransactionEncoder()\n",
    "te_array = te.fit(basket['Description']).transform(basket['Description'])\n",
    "df_trans = pd.DataFrame(te_array, columns=te.columns_)"
   ]
  },
  {
   "cell_type": "code",
   "execution_count": 153,
   "metadata": {},
   "outputs": [],
   "source": [
    "min_support = 0.025\n",
    "min_treshold = 0.5"
   ]
  },
  {
   "cell_type": "code",
   "execution_count": 154,
   "metadata": {},
   "outputs": [
    {
     "data": {
      "text/plain": [
       "0.025"
      ]
     },
     "execution_count": 154,
     "metadata": {},
     "output_type": "execute_result"
    }
   ],
   "source": [
    "min_support"
   ]
  },
  {
   "cell_type": "code",
   "execution_count": 155,
   "metadata": {},
   "outputs": [],
   "source": [
    "frequent_itemsets = apriori(df_trans, min_support=min_support, use_colnames=True)"
   ]
  },
  {
   "cell_type": "code",
   "execution_count": 156,
   "metadata": {},
   "outputs": [
    {
     "data": {
      "text/html": [
       "<div>\n",
       "<style scoped>\n",
       "    .dataframe tbody tr th:only-of-type {\n",
       "        vertical-align: middle;\n",
       "    }\n",
       "\n",
       "    .dataframe tbody tr th {\n",
       "        vertical-align: top;\n",
       "    }\n",
       "\n",
       "    .dataframe thead th {\n",
       "        text-align: right;\n",
       "    }\n",
       "</style>\n",
       "<table border=\"1\" class=\"dataframe\">\n",
       "  <thead>\n",
       "    <tr style=\"text-align: right;\">\n",
       "      <th></th>\n",
       "      <th>support</th>\n",
       "    </tr>\n",
       "  </thead>\n",
       "  <tbody>\n",
       "    <tr>\n",
       "      <th>count</th>\n",
       "      <td>119.000000</td>\n",
       "    </tr>\n",
       "    <tr>\n",
       "      <th>mean</th>\n",
       "      <td>0.035978</td>\n",
       "    </tr>\n",
       "    <tr>\n",
       "      <th>std</th>\n",
       "      <td>0.011575</td>\n",
       "    </tr>\n",
       "    <tr>\n",
       "      <th>min</th>\n",
       "      <td>0.025019</td>\n",
       "    </tr>\n",
       "    <tr>\n",
       "      <th>25%</th>\n",
       "      <td>0.027954</td>\n",
       "    </tr>\n",
       "    <tr>\n",
       "      <th>50%</th>\n",
       "      <td>0.032741</td>\n",
       "    </tr>\n",
       "    <tr>\n",
       "      <th>75%</th>\n",
       "      <td>0.040676</td>\n",
       "    </tr>\n",
       "    <tr>\n",
       "      <th>max</th>\n",
       "      <td>0.088880</td>\n",
       "    </tr>\n",
       "  </tbody>\n",
       "</table>\n",
       "</div>"
      ],
      "text/plain": [
       "          support\n",
       "count  119.000000\n",
       "mean     0.035978\n",
       "std      0.011575\n",
       "min      0.025019\n",
       "25%      0.027954\n",
       "50%      0.032741\n",
       "75%      0.040676\n",
       "max      0.088880"
      ]
     },
     "execution_count": 156,
     "metadata": {},
     "output_type": "execute_result"
    }
   ],
   "source": [
    "frequent_itemsets.describe()"
   ]
  },
  {
   "cell_type": "code",
   "execution_count": 157,
   "metadata": {},
   "outputs": [],
   "source": [
    "rules = association_rules(frequent_itemsets, metric=\"confidence\", min_threshold=min_treshold, num_itemsets=2)"
   ]
  },
  {
   "cell_type": "code",
   "execution_count": 158,
   "metadata": {},
   "outputs": [
    {
     "data": {
      "text/html": [
       "<div>\n",
       "<style scoped>\n",
       "    .dataframe tbody tr th:only-of-type {\n",
       "        vertical-align: middle;\n",
       "    }\n",
       "\n",
       "    .dataframe tbody tr th {\n",
       "        vertical-align: top;\n",
       "    }\n",
       "\n",
       "    .dataframe thead th {\n",
       "        text-align: right;\n",
       "    }\n",
       "</style>\n",
       "<table border=\"1\" class=\"dataframe\">\n",
       "  <thead>\n",
       "    <tr style=\"text-align: right;\">\n",
       "      <th></th>\n",
       "      <th>antecedents</th>\n",
       "      <th>consequents</th>\n",
       "      <th>antecedent support</th>\n",
       "      <th>consequent support</th>\n",
       "      <th>support</th>\n",
       "      <th>confidence</th>\n",
       "      <th>lift</th>\n",
       "      <th>representativity</th>\n",
       "      <th>leverage</th>\n",
       "      <th>conviction</th>\n",
       "      <th>zhangs_metric</th>\n",
       "      <th>jaccard</th>\n",
       "      <th>certainty</th>\n",
       "      <th>kulczynski</th>\n",
       "    </tr>\n",
       "  </thead>\n",
       "  <tbody>\n",
       "    <tr>\n",
       "      <th>0</th>\n",
       "      <td>(ROSES REGENCY TEACUP AND SAUCER)</td>\n",
       "      <td>(GREEN REGENCY TEACUP AND SAUCER)</td>\n",
       "      <td>0.043243</td>\n",
       "      <td>0.040811</td>\n",
       "      <td>0.030270</td>\n",
       "      <td>0.700000</td>\n",
       "      <td>17.152318</td>\n",
       "      <td>1.0</td>\n",
       "      <td>0.028505</td>\n",
       "      <td>3.197297</td>\n",
       "      <td>0.984262</td>\n",
       "      <td>0.562814</td>\n",
       "      <td>0.687236</td>\n",
       "      <td>0.720861</td>\n",
       "    </tr>\n",
       "    <tr>\n",
       "      <th>1</th>\n",
       "      <td>(GREEN REGENCY TEACUP AND SAUCER)</td>\n",
       "      <td>(ROSES REGENCY TEACUP AND SAUCER)</td>\n",
       "      <td>0.040811</td>\n",
       "      <td>0.043243</td>\n",
       "      <td>0.030270</td>\n",
       "      <td>0.741722</td>\n",
       "      <td>17.152318</td>\n",
       "      <td>1.0</td>\n",
       "      <td>0.028505</td>\n",
       "      <td>3.704366</td>\n",
       "      <td>0.981765</td>\n",
       "      <td>0.562814</td>\n",
       "      <td>0.730048</td>\n",
       "      <td>0.720861</td>\n",
       "    </tr>\n",
       "    <tr>\n",
       "      <th>2</th>\n",
       "      <td>(JUMBO BAG PINK POLKADOT)</td>\n",
       "      <td>(JUMBO BAG RED RETROSPOT)</td>\n",
       "      <td>0.047529</td>\n",
       "      <td>0.082432</td>\n",
       "      <td>0.032162</td>\n",
       "      <td>0.676686</td>\n",
       "      <td>8.208973</td>\n",
       "      <td>1.0</td>\n",
       "      <td>0.028244</td>\n",
       "      <td>2.838004</td>\n",
       "      <td>0.922004</td>\n",
       "      <td>0.328859</td>\n",
       "      <td>0.647640</td>\n",
       "      <td>0.533425</td>\n",
       "    </tr>\n",
       "    <tr>\n",
       "      <th>3</th>\n",
       "      <td>(JUMBO SHOPPER VINTAGE RED PAISLEY)</td>\n",
       "      <td>(JUMBO BAG RED RETROSPOT)</td>\n",
       "      <td>0.045830</td>\n",
       "      <td>0.082432</td>\n",
       "      <td>0.026371</td>\n",
       "      <td>0.575400</td>\n",
       "      <td>6.980264</td>\n",
       "      <td>1.0</td>\n",
       "      <td>0.022593</td>\n",
       "      <td>2.161017</td>\n",
       "      <td>0.897889</td>\n",
       "      <td>0.258810</td>\n",
       "      <td>0.537255</td>\n",
       "      <td>0.447653</td>\n",
       "    </tr>\n",
       "    <tr>\n",
       "      <th>4</th>\n",
       "      <td>(JUMBO STORAGE BAG SUKI)</td>\n",
       "      <td>(JUMBO BAG RED RETROSPOT)</td>\n",
       "      <td>0.046371</td>\n",
       "      <td>0.082432</td>\n",
       "      <td>0.028301</td>\n",
       "      <td>0.610325</td>\n",
       "      <td>7.403939</td>\n",
       "      <td>1.0</td>\n",
       "      <td>0.024479</td>\n",
       "      <td>2.354698</td>\n",
       "      <td>0.906995</td>\n",
       "      <td>0.281598</td>\n",
       "      <td>0.575317</td>\n",
       "      <td>0.476825</td>\n",
       "    </tr>\n",
       "    <tr>\n",
       "      <th>5</th>\n",
       "      <td>(LUNCH BAG  BLACK SKULL.)</td>\n",
       "      <td>(LUNCH BAG RED RETROSPOT)</td>\n",
       "      <td>0.050000</td>\n",
       "      <td>0.062046</td>\n",
       "      <td>0.025019</td>\n",
       "      <td>0.500386</td>\n",
       "      <td>8.064717</td>\n",
       "      <td>1.0</td>\n",
       "      <td>0.021917</td>\n",
       "      <td>1.877357</td>\n",
       "      <td>0.922109</td>\n",
       "      <td>0.287489</td>\n",
       "      <td>0.467336</td>\n",
       "      <td>0.451811</td>\n",
       "    </tr>\n",
       "  </tbody>\n",
       "</table>\n",
       "</div>"
      ],
      "text/plain": [
       "                           antecedents                        consequents  \\\n",
       "0    (ROSES REGENCY TEACUP AND SAUCER)  (GREEN REGENCY TEACUP AND SAUCER)   \n",
       "1    (GREEN REGENCY TEACUP AND SAUCER)  (ROSES REGENCY TEACUP AND SAUCER)   \n",
       "2            (JUMBO BAG PINK POLKADOT)          (JUMBO BAG RED RETROSPOT)   \n",
       "3  (JUMBO SHOPPER VINTAGE RED PAISLEY)          (JUMBO BAG RED RETROSPOT)   \n",
       "4             (JUMBO STORAGE BAG SUKI)          (JUMBO BAG RED RETROSPOT)   \n",
       "5            (LUNCH BAG  BLACK SKULL.)          (LUNCH BAG RED RETROSPOT)   \n",
       "\n",
       "   antecedent support  consequent support   support  confidence       lift  \\\n",
       "0            0.043243            0.040811  0.030270    0.700000  17.152318   \n",
       "1            0.040811            0.043243  0.030270    0.741722  17.152318   \n",
       "2            0.047529            0.082432  0.032162    0.676686   8.208973   \n",
       "3            0.045830            0.082432  0.026371    0.575400   6.980264   \n",
       "4            0.046371            0.082432  0.028301    0.610325   7.403939   \n",
       "5            0.050000            0.062046  0.025019    0.500386   8.064717   \n",
       "\n",
       "   representativity  leverage  conviction  zhangs_metric   jaccard  certainty  \\\n",
       "0               1.0  0.028505    3.197297       0.984262  0.562814   0.687236   \n",
       "1               1.0  0.028505    3.704366       0.981765  0.562814   0.730048   \n",
       "2               1.0  0.028244    2.838004       0.922004  0.328859   0.647640   \n",
       "3               1.0  0.022593    2.161017       0.897889  0.258810   0.537255   \n",
       "4               1.0  0.024479    2.354698       0.906995  0.281598   0.575317   \n",
       "5               1.0  0.021917    1.877357       0.922109  0.287489   0.467336   \n",
       "\n",
       "   kulczynski  \n",
       "0    0.720861  \n",
       "1    0.720861  \n",
       "2    0.533425  \n",
       "3    0.447653  \n",
       "4    0.476825  \n",
       "5    0.451811  "
      ]
     },
     "execution_count": 158,
     "metadata": {},
     "output_type": "execute_result"
    }
   ],
   "source": [
    "rules"
   ]
  },
  {
   "cell_type": "code",
   "execution_count": 159,
   "metadata": {},
   "outputs": [],
   "source": [
    "def find_closed_patterns(frequent_itemsets):\n",
    "    \"\"\"\n",
    "    Mencari Closed Patterns dari frequent itemsets.\n",
    "    \"\"\"\n",
    "    closed_patterns = []\n",
    "    for i, row in frequent_itemsets.iterrows():\n",
    "        is_closed = True\n",
    "        for j, compare_row in frequent_itemsets.iterrows():\n",
    "            if set(row['itemsets']).issubset(set(compare_row['itemsets'])) and row['support'] == compare_row['support'] and row['itemsets'] != compare_row['itemsets']:\n",
    "                is_closed = False\n",
    "                break\n",
    "        if is_closed:\n",
    "            closed_patterns.append(row)\n",
    "    return pd.DataFrame(closed_patterns)\n",
    "\n",
    "def find_maximal_closed_patterns(frequent_itemsets):\n",
    "    \"\"\"\n",
    "    Mencari Maximal Closed Patterns dari frequent itemsets.\n",
    "    \"\"\"\n",
    "    maximal_patterns = []\n",
    "    for i, row in frequent_itemsets.iterrows():\n",
    "        is_maximal = True\n",
    "        for j, compare_row in frequent_itemsets.iterrows():\n",
    "            if set(row['itemsets']).issubset(set(compare_row['itemsets'])) and row['itemsets'] != compare_row['itemsets']:\n",
    "                is_maximal = False\n",
    "                break\n",
    "        if is_maximal:\n",
    "            maximal_patterns.append(row)\n",
    "    return pd.DataFrame(maximal_patterns)"
   ]
  },
  {
   "cell_type": "code",
   "execution_count": 160,
   "metadata": {},
   "outputs": [
    {
     "name": "stdout",
     "output_type": "stream",
     "text": [
      "Closed Patterns:\n",
      "      support                                           itemsets\n",
      "0    0.037104                           (6 RIBBONS RUSTIC CHARM)\n",
      "1    0.032278                      (60 TEATIME FAIRY CAKE CASES)\n",
      "2    0.038726                       (ALARM CLOCK BAKELIKE GREEN)\n",
      "3    0.030849                        (ALARM CLOCK BAKELIKE PINK)\n",
      "4    0.041737                         (ALARM CLOCK BAKELIKE RED)\n",
      "..        ...                                                ...\n",
      "114  0.030270  (ROSES REGENCY TEACUP AND SAUCER, GREEN REGENC...\n",
      "115  0.032162  (JUMBO BAG RED RETROSPOT, JUMBO BAG PINK POLKA...\n",
      "116  0.026371  (JUMBO BAG RED RETROSPOT, JUMBO SHOPPER VINTAG...\n",
      "117  0.028301  (JUMBO BAG RED RETROSPOT, JUMBO STORAGE BAG SUKI)\n",
      "118  0.025019  (LUNCH BAG RED RETROSPOT, LUNCH BAG  BLACK SKU...\n",
      "\n",
      "[119 rows x 2 columns]\n"
     ]
    }
   ],
   "source": [
    "closed_patterns = find_closed_patterns(frequent_itemsets)\n",
    "print(\"Closed Patterns:\")\n",
    "print(closed_patterns)"
   ]
  },
  {
   "cell_type": "code",
   "execution_count": 161,
   "metadata": {},
   "outputs": [
    {
     "name": "stdout",
     "output_type": "stream",
     "text": [
      "\n",
      "Maximal Closed Patterns:\n",
      "      support                                           itemsets\n",
      "0    0.037104                           (6 RIBBONS RUSTIC CHARM)\n",
      "1    0.032278                      (60 TEATIME FAIRY CAKE CASES)\n",
      "2    0.038726                       (ALARM CLOCK BAKELIKE GREEN)\n",
      "3    0.030849                        (ALARM CLOCK BAKELIKE PINK)\n",
      "4    0.041737                         (ALARM CLOCK BAKELIKE RED)\n",
      "..        ...                                                ...\n",
      "114  0.030270  (ROSES REGENCY TEACUP AND SAUCER, GREEN REGENC...\n",
      "115  0.032162  (JUMBO BAG RED RETROSPOT, JUMBO BAG PINK POLKA...\n",
      "116  0.026371  (JUMBO BAG RED RETROSPOT, JUMBO SHOPPER VINTAG...\n",
      "117  0.028301  (JUMBO BAG RED RETROSPOT, JUMBO STORAGE BAG SUKI)\n",
      "118  0.025019  (LUNCH BAG RED RETROSPOT, LUNCH BAG  BLACK SKU...\n",
      "\n",
      "[111 rows x 2 columns]\n"
     ]
    }
   ],
   "source": [
    "# Cari Maximal Closed Patterns\n",
    "maximal_patterns = find_maximal_closed_patterns(frequent_itemsets)\n",
    "print(\"\\nMaximal Closed Patterns:\")\n",
    "print(maximal_patterns)"
   ]
  }
 ],
 "metadata": {
  "kernelspec": {
   "display_name": "venv",
   "language": "python",
   "name": "python3"
  },
  "language_info": {
   "codemirror_mode": {
    "name": "ipython",
    "version": 3
   },
   "file_extension": ".py",
   "mimetype": "text/x-python",
   "name": "python",
   "nbconvert_exporter": "python",
   "pygments_lexer": "ipython3",
   "version": "3.12.3"
  }
 },
 "nbformat": 4,
 "nbformat_minor": 2
}
